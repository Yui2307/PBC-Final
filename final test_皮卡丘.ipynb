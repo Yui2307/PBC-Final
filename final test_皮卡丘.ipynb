{
 "cells": [
  {
   "cell_type": "code",
   "execution_count": 2,
   "metadata": {},
   "outputs": [],
   "source": [
    "import cocos"
   ]
  },
  {
   "cell_type": "code",
   "execution_count": 3,
   "metadata": {},
   "outputs": [],
   "source": [
    "class Pikachu(cocos.sprite.Sprite):\n",
    "    def __init__(self, imagepath, **kwargs):\n",
    "        super(Pikachu,self).__init__(imagepath)\n",
    "        self.image_anchor = 0 , 0\n",
    "        self.reset(False)\n",
    "        self.schedule(self.update)\n",
    "    \n",
    "    def jump(self,h):\n",
    "        if self.is_able_jump:\n",
    "            self.y += 1\n",
    "            self.speed -= max(min(h,6),8)\n",
    "            slef.is_able_jump = False\n",
    "    \n",
    "    def land(self, y):\n",
    "        if self.y > y-25:\n",
    "            self.is_able_jump = True\n",
    "            self.speed = 0\n",
    "            self.y = y\n",
    "    \n",
    "    def update(self, dt):\n",
    "        self.speed += 10*dt\n",
    "        self.y -= self.speed\n",
    "        if self.y < -85:\n",
    "            self.reset()\n",
    "    \n",
    "    def reset(self, flag = True):\n",
    "        if flag: self.parent.reset()\n",
    "        self.is_able_jump = False\n",
    "        self.speed = 0\n",
    "        self.position = 80, 280\n",
    "\n"
   ]
  },
  {
   "cell_type": "code",
   "execution_count": 4,
   "metadata": {},
   "outputs": [],
   "source": [
    "import random"
   ]
  },
  {
   "cell_type": "code",
   "execution_count": 5,
   "metadata": {},
   "outputs": [],
   "source": [
    "class Block(cocos.sprite.Sprite):\n",
    "    def __init__(self, imagepath, **kwargs):\n",
    "        super(Block,self).__init__(imagepath)\n",
    "        self.image_anchor = 0 , 0\n",
    "        x, y = position\n",
    "        if x == 0:\n",
    "            self.scale_x = 4.5\n",
    "            self.scale_y = 1\n",
    "        else:\n",
    "            self.scale_x = 0.5 + random.random()*1.5\n",
    "            self.scale_y = min(max(y-50+random.random()*100,50),300)/100.0\n",
    "            self.position = x + 50+ random.random()*100,0"
   ]
  },
  {
   "cell_type": "code",
   "execution_count": 11,
   "metadata": {},
   "outputs": [
    {
     "ename": "ModuleNotFoundError",
     "evalue": "No module named 'cfg'",
     "output_type": "error",
     "traceback": [
      "\u001b[0;31m---------------------------------------------------------------------------\u001b[0m",
      "\u001b[0;31mModuleNotFoundError\u001b[0m                       Traceback (most recent call last)",
      "\u001b[0;32m<ipython-input-11-5bfe568f35a9>\u001b[0m in \u001b[0;36m<module>\u001b[0;34m\u001b[0m\n\u001b[0;32m----> 1\u001b[0;31m \u001b[0;32mimport\u001b[0m \u001b[0mcfg\u001b[0m\u001b[0;34m\u001b[0m\u001b[0;34m\u001b[0m\u001b[0m\n\u001b[0m",
      "\u001b[0;31mModuleNotFoundError\u001b[0m: No module named 'cfg'"
     ]
    }
   ],
   "source": [
    "import cfg  ## 不知道這個的模組是什麼～～～無法import"
   ]
  },
  {
   "cell_type": "code",
   "execution_count": 10,
   "metadata": {},
   "outputs": [],
   "source": [
    "import struct"
   ]
  },
  {
   "cell_type": "code",
   "execution_count": 16,
   "metadata": {},
   "outputs": [
    {
     "name": "stdout",
     "output_type": "stream",
     "text": [
      "\n",
      "Note: you may need to restart the kernel to use updated packages.\n"
     ]
    }
   ],
   "source": [
    "conda config --add channels conda-forge "
   ]
  },
  {
   "cell_type": "code",
   "execution_count": 17,
   "metadata": {},
   "outputs": [
    {
     "name": "stdout",
     "output_type": "stream",
     "text": [
      "Collecting package metadata (current_repodata.json): done\n",
      "Solving environment: done\n",
      "\n",
      "\n",
      "==> WARNING: A newer version of conda exists. <==\n",
      "  current version: 4.8.3\n",
      "  latest version: 4.9.2\n",
      "\n",
      "Please update conda by running\n",
      "\n",
      "    $ conda update -n base -c defaults conda\n",
      "\n",
      "\n",
      "\n",
      "## Package Plan ##\n",
      "\n",
      "  environment location: /Users/liuyimei/opt/anaconda3\n",
      "\n",
      "  added / updated specs:\n",
      "    - pyaudio\n",
      "\n",
      "\n",
      "The following packages will be downloaded:\n",
      "\n",
      "    package                    |            build\n",
      "    ---------------------------|-----------------\n",
      "    conda-4.9.2                |   py38h50d1736_0         3.1 MB  conda-forge\n",
      "    portaudio-19.6.0           |       h647c56a_4          75 KB\n",
      "    pyaudio-0.2.11             |   py38h1de35cc_2         203 KB\n",
      "    python_abi-3.8             |           1_cp38           4 KB  conda-forge\n",
      "    ------------------------------------------------------------\n",
      "                                           Total:         3.3 MB\n",
      "\n",
      "The following NEW packages will be INSTALLED:\n",
      "\n",
      "  portaudio          pkgs/main/osx-64::portaudio-19.6.0-h647c56a_4\n",
      "  pyaudio            pkgs/main/osx-64::pyaudio-0.2.11-py38h1de35cc_2\n",
      "  python_abi         conda-forge/osx-64::python_abi-3.8-1_cp38\n",
      "\n",
      "The following packages will be UPDATED:\n",
      "\n",
      "  conda                       pkgs/main::conda-4.8.3-py38_0 --> conda-forge::conda-4.9.2-py38h50d1736_0\n",
      "\n",
      "\n",
      "\n",
      "Downloading and Extracting Packages\n",
      "conda-4.9.2          | 3.1 MB    | ##################################### | 100% \n",
      "pyaudio-0.2.11       | 203 KB    | ##################################### | 100% \n",
      "python_abi-3.8       | 4 KB      | ##################################### | 100% \n",
      "portaudio-19.6.0     | 75 KB     | ##################################### | 100% \n",
      "Preparing transaction: done\n",
      "Verifying transaction: done\n",
      "Executing transaction: done\n",
      "\n",
      "Note: you may need to restart the kernel to use updated packages.\n"
     ]
    }
   ],
   "source": [
    "conda install pyaudio"
   ]
  },
  {
   "cell_type": "code",
   "execution_count": 19,
   "metadata": {},
   "outputs": [
    {
     "name": "stdout",
     "output_type": "stream",
     "text": [
      "Collecting package metadata (current_repodata.json): done\n",
      "Solving environment: done\n",
      "\n",
      "## Package Plan ##\n",
      "\n",
      "  environment location: /Users/liuyimei/opt/anaconda3\n",
      "\n",
      "  added / updated specs:\n",
      "    - conda\n",
      "\n",
      "\n",
      "The following packages will be downloaded:\n",
      "\n",
      "    package                    |            build\n",
      "    ---------------------------|-----------------\n",
      "    backports.functools_lru_cache-1.6.1|     pyhd3eb1b0_0          12 KB\n",
      "    conda-4.9.2                |   py38hecd8cb5_0         2.9 MB\n",
      "    conda-package-handling-1.7.2|   py38h22f3db7_0         1.5 MB\n",
      "    ------------------------------------------------------------\n",
      "                                           Total:         4.4 MB\n",
      "\n",
      "The following packages will be REMOVED:\n",
      "\n",
      "  python_abi-3.8-1_cp38\n",
      "\n",
      "The following packages will be UPDATED:\n",
      "\n",
      "  conda-package-han~                   1.6.1-py38h1de35cc_0 --> 1.7.2-py38h22f3db7_0\n",
      "\n",
      "The following packages will be SUPERSEDED by a higher-priority channel:\n",
      "\n",
      "  conda              conda-forge::conda-4.9.2-py38h50d1736~ --> pkgs/main::conda-4.9.2-py38hecd8cb5_0\n",
      "\n",
      "The following packages will be DOWNGRADED:\n",
      "\n",
      "  backports.functoo~                             1.6.1-py_0 --> 1.6.1-pyhd3eb1b0_0\n",
      "\n",
      "\n",
      "\n",
      "Downloading and Extracting Packages\n",
      "conda-4.9.2          | 2.9 MB    | ##################################### | 100% \n",
      "conda-package-handli | 1.5 MB    | ##################################### | 100% \n",
      "backports.functools_ | 12 KB     | ##################################### | 100% \n",
      "Preparing transaction: done\n",
      "Verifying transaction: done\n",
      "Executing transaction: done\n",
      "\n",
      "Note: you may need to restart the kernel to use updated packages.\n"
     ]
    }
   ],
   "source": [
    "conda update -n base -c defaults conda"
   ]
  },
  {
   "cell_type": "code",
   "execution_count": 21,
   "metadata": {},
   "outputs": [],
   "source": [
    "import pyaudio\n"
   ]
  },
  {
   "cell_type": "code",
   "execution_count": 22,
   "metadata": {},
   "outputs": [],
   "source": [
    "from cocos.sprite import Sprite"
   ]
  },
  {
   "cell_type": "code",
   "execution_count": 23,
   "metadata": {},
   "outputs": [],
   "source": [
    "from pyaudio import paInt16"
   ]
  },
  {
   "cell_type": "code",
   "execution_count": null,
   "metadata": {},
   "outputs": [],
   "source": [
    "class VoiceControlGame(cocos.layer.Colorlayer):\n",
    "    def __init__(self):\n",
    "        super(VoiceControlGame, self).__init__(255,255,255,255,800,600)\n",
    "        self.num_samples = 1000\n",
    "        \n",
    "        self.vbar = Sprite(cfg.BLOCK_IMAGE_PATH)\n",
    "        self.vbar.scale_y = 0.1\n",
    "        self.vbar.image_anchor = 0,0\n",
    "        self.add(self.vbar)\n",
    "        \n",
    "        self.pikachu = Pikachu(cfg.PIKACHU_IMAGE_PATH)\n",
    "        self.add(self.pikachu)\n",
    "        \n",
    "        self.floor = cocos.cocosnode.CocosNode()\n",
    "        self.add(self.floor)\n",
    "        position = 0,100\n",
    "        for i in range(120):\n",
    "            b= Block(cfg.BLOCK_IMAGE_PATH, position)\n",
    "            self.floor.add(b)\n",
    "            position = b.x+b.width, b.height\n",
    "        \n",
    "        audio = Pyaudio()\n",
    "        self.stream = audio.opem(format = paInt16, channels=1, rate = int(audio.get_device_info_by_index(0)[\"defaultSampleRate\"]),input= True)\n",
    "        ## 上面這句好像還有，但是太長看不到qq\n",
    "        \n",
    "        self.schedule(self.update)\n",
    "    \n",
    "    def collide(self):\n",
    "        diffx = self.pikachu.x - self.floor.x\n",
    "        for b in self.floor.get_children():\n",
    "            if(b.x <= diffx + self.pikachu.width*0.8) and (diffx + self.pikachu.width*0.2 <= b.x + b.width):\n",
    "                if self.pikachu.y < b.height:\n",
    "                    self.pikachu.land(b.height)\n",
    "    \n",
    "    def update(self, dt):\n",
    "        audio_data = self.stream.read(self.num_samples)\n",
    "        k = max(struct.unpack(\"1000h\",audio_data))\n",
    "        self.vbar.scale_x = k/10000\n",
    "        if k > 3000:\n",
    "            self.floor.x -= min((k/20),150)*dt\n",
    "        if k > 8000:\n",
    "            self.pikachu.jump((k-7000)/1000)\n",
    "        self.collide\n",
    "    \n",
    "    def reset(self):\n",
    "        self.floor.x = 0\n",
    "                \n",
    "        \n",
    "        "
   ]
  }
 ],
 "metadata": {
  "kernelspec": {
   "display_name": "Python 3",
   "language": "python",
   "name": "python3"
  },
  "language_info": {
   "codemirror_mode": {
    "name": "ipython",
    "version": 3
   },
   "file_extension": ".py",
   "mimetype": "text/x-python",
   "name": "python",
   "nbconvert_exporter": "python",
   "pygments_lexer": "ipython3",
   "version": "3.8.3"
  }
 },
 "nbformat": 4,
 "nbformat_minor": 4
}
